{
 "cells": [
  {
   "cell_type": "markdown",
   "metadata": {},
   "source": [
    "### random number generator"
   ]
  },
  {
   "cell_type": "code",
   "execution_count": 1,
   "metadata": {},
   "outputs": [
    {
     "data": {
      "text/plain": [
       "0.4974602545095057"
      ]
     },
     "execution_count": 1,
     "metadata": {},
     "output_type": "execute_result"
    }
   ],
   "source": [
    "import random \n",
    "\n",
    "random.random()"
   ]
  },
  {
   "cell_type": "code",
   "execution_count": 2,
   "metadata": {},
   "outputs": [],
   "source": [
    "import random as rand"
   ]
  },
  {
   "cell_type": "code",
   "execution_count": 3,
   "metadata": {},
   "outputs": [
    {
     "data": {
      "text/plain": [
       "0.4103564518365884"
      ]
     },
     "execution_count": 3,
     "metadata": {},
     "output_type": "execute_result"
    }
   ],
   "source": [
    "rand.random()"
   ]
  },
  {
   "cell_type": "code",
   "execution_count": 4,
   "metadata": {},
   "outputs": [
    {
     "name": "stdout",
     "output_type": "stream",
     "text": [
      "4\n",
      "1\n",
      "2\n",
      "5\n",
      "3\n"
     ]
    }
   ],
   "source": [
    "# rand.randint(start, end) where start and end are enclusive\n",
    "\n",
    "print(rand.randint(1, 5))\n",
    "print(rand.randint(1, 5))\n",
    "print(rand.randint(1, 5))\n",
    "print(rand.randint(1, 5))\n",
    "print(rand.randint(1, 5))"
   ]
  },
  {
   "cell_type": "code",
   "execution_count": null,
   "metadata": {},
   "outputs": [],
   "source": [
    "rand.randint(10, 19)"
   ]
  },
  {
   "cell_type": "markdown",
   "metadata": {},
   "source": [
    "### round( arg [, decimal_places] )"
   ]
  },
  {
   "cell_type": "code",
   "execution_count": 5,
   "metadata": {},
   "outputs": [
    {
     "data": {
      "text/plain": [
       "3"
      ]
     },
     "execution_count": 5,
     "metadata": {},
     "output_type": "execute_result"
    }
   ],
   "source": [
    "round(3.142857)"
   ]
  },
  {
   "cell_type": "code",
   "execution_count": 6,
   "metadata": {},
   "outputs": [
    {
     "data": {
      "text/plain": [
       "3.0"
      ]
     },
     "execution_count": 6,
     "metadata": {},
     "output_type": "execute_result"
    }
   ],
   "source": [
    "round(3.142857, 0)"
   ]
  },
  {
   "cell_type": "code",
   "execution_count": 7,
   "metadata": {},
   "outputs": [
    {
     "data": {
      "text/plain": [
       "3.1"
      ]
     },
     "execution_count": 7,
     "metadata": {},
     "output_type": "execute_result"
    }
   ],
   "source": [
    "round(3.142857, 1)"
   ]
  },
  {
   "cell_type": "code",
   "execution_count": 8,
   "metadata": {},
   "outputs": [
    {
     "data": {
      "text/plain": [
       "3.14286"
      ]
     },
     "execution_count": 8,
     "metadata": {},
     "output_type": "execute_result"
    }
   ],
   "source": [
    "round(3.142857, 5)"
   ]
  },
  {
   "cell_type": "markdown",
   "metadata": {},
   "source": [
    "### len( arg )"
   ]
  },
  {
   "cell_type": "code",
   "execution_count": 9,
   "metadata": {},
   "outputs": [
    {
     "data": {
      "text/plain": [
       "12"
      ]
     },
     "execution_count": 9,
     "metadata": {},
     "output_type": "execute_result"
    }
   ],
   "source": [
    "len(\"hello, world\")"
   ]
  },
  {
   "cell_type": "code",
   "execution_count": 10,
   "metadata": {},
   "outputs": [
    {
     "data": {
      "text/plain": [
       "9"
      ]
     },
     "execution_count": 10,
     "metadata": {},
     "output_type": "execute_result"
    }
   ],
   "source": [
    "len('123.56789')"
   ]
  },
  {
   "cell_type": "code",
   "execution_count": 11,
   "metadata": {},
   "outputs": [
    {
     "data": {
      "text/plain": [
       "0"
      ]
     },
     "execution_count": 11,
     "metadata": {},
     "output_type": "execute_result"
    }
   ],
   "source": [
    "len(\"\")"
   ]
  },
  {
   "cell_type": "markdown",
   "metadata": {},
   "source": [
    "## Exercise 1\n",
    "Generate a random number between 2 numbers provided by a user."
   ]
  },
  {
   "cell_type": "code",
   "execution_count": 12,
   "metadata": {},
   "outputs": [
    {
     "name": "stdout",
     "output_type": "stream",
     "text": [
      "14\n"
     ]
    }
   ],
   "source": [
    "print(rand.randint(10, 15))"
   ]
  },
  {
   "cell_type": "markdown",
   "metadata": {},
   "source": [
    "### String Methods"
   ]
  },
  {
   "cell_type": "code",
   "execution_count": 13,
   "metadata": {},
   "outputs": [
    {
     "data": {
      "text/plain": [
       "27"
      ]
     },
     "execution_count": 13,
     "metadata": {},
     "output_type": "execute_result"
    }
   ],
   "source": [
    "message = \"  learn to code in PYTHON  \"\n",
    "len(message)"
   ]
  },
  {
   "cell_type": "code",
   "execution_count": 14,
   "metadata": {},
   "outputs": [
    {
     "data": {
      "text/plain": [
       "'  Learn To Code In Python  '"
      ]
     },
     "execution_count": 14,
     "metadata": {},
     "output_type": "execute_result"
    }
   ],
   "source": [
    "message.title()"
   ]
  },
  {
   "cell_type": "code",
   "execution_count": 15,
   "metadata": {},
   "outputs": [
    {
     "data": {
      "text/plain": [
       "'  LEARN TO CODE IN PYTHON  '"
      ]
     },
     "execution_count": 15,
     "metadata": {},
     "output_type": "execute_result"
    }
   ],
   "source": [
    "message.upper()"
   ]
  },
  {
   "cell_type": "code",
   "execution_count": 16,
   "metadata": {},
   "outputs": [
    {
     "data": {
      "text/plain": [
       "'  learn to code in python  '"
      ]
     },
     "execution_count": 16,
     "metadata": {},
     "output_type": "execute_result"
    }
   ],
   "source": [
    "message.lower()"
   ]
  },
  {
   "cell_type": "code",
   "execution_count": 17,
   "metadata": {},
   "outputs": [
    {
     "name": "stdout",
     "output_type": "stream",
     "text": [
      ">>>  learn to code in PYTHON  <<<\n"
     ]
    },
    {
     "data": {
      "text/plain": [
       "'learn to code in PYTHON'"
      ]
     },
     "execution_count": 17,
     "metadata": {},
     "output_type": "execute_result"
    }
   ],
   "source": [
    "print(\">>>\"+message+\"<<<\")\n",
    "message.strip()"
   ]
  },
  {
   "cell_type": "code",
   "execution_count": 18,
   "metadata": {},
   "outputs": [
    {
     "data": {
      "text/plain": [
       "23"
      ]
     },
     "execution_count": 18,
     "metadata": {},
     "output_type": "execute_result"
    }
   ],
   "source": [
    "len(message.strip())"
   ]
  },
  {
   "cell_type": "code",
   "execution_count": 19,
   "metadata": {},
   "outputs": [
    {
     "name": "stdout",
     "output_type": "stream",
     "text": [
      ">>>  learn to code in PYTHON  <<<\n"
     ]
    },
    {
     "data": {
      "text/plain": [
       "'learn to code in PYTHON  '"
      ]
     },
     "execution_count": 19,
     "metadata": {},
     "output_type": "execute_result"
    }
   ],
   "source": [
    "print(\">>>\"+message+\"<<<\")\n",
    "message.lstrip()"
   ]
  },
  {
   "cell_type": "code",
   "execution_count": 20,
   "metadata": {},
   "outputs": [
    {
     "data": {
      "text/plain": [
       "'  learn to code in PYTHON'"
      ]
     },
     "execution_count": 20,
     "metadata": {},
     "output_type": "execute_result"
    }
   ],
   "source": [
    "message.rstrip()"
   ]
  },
  {
   "cell_type": "code",
   "execution_count": 21,
   "metadata": {},
   "outputs": [
    {
     "name": "stdout",
     "output_type": "stream",
     "text": [
      ">>>  learn to code in PYTHON  <<<\n"
     ]
    },
    {
     "data": {
      "text/plain": [
       "'  learn to code in PYTHON'"
      ]
     },
     "execution_count": 21,
     "metadata": {},
     "output_type": "execute_result"
    }
   ],
   "source": [
    "print(\">>>\"+message+\"<<<\")\n",
    "message.rstrip()"
   ]
  },
  {
   "cell_type": "code",
   "execution_count": 22,
   "metadata": {},
   "outputs": [
    {
     "name": "stdout",
     "output_type": "stream",
     "text": [
      ">>>  learn to code in PYTHON  <<<\n"
     ]
    },
    {
     "data": {
      "text/plain": [
       "1"
      ]
     },
     "execution_count": 22,
     "metadata": {},
     "output_type": "execute_result"
    }
   ],
   "source": [
    "print(\">>>\"+message+\"<<<\")\n",
    "message.count(\"to\")"
   ]
  },
  {
   "cell_type": "code",
   "execution_count": 23,
   "metadata": {},
   "outputs": [
    {
     "data": {
      "text/plain": [
       "2"
      ]
     },
     "execution_count": 23,
     "metadata": {},
     "output_type": "execute_result"
    }
   ],
   "source": [
    "message.count(\"o\")"
   ]
  },
  {
   "cell_type": "code",
   "execution_count": 24,
   "metadata": {},
   "outputs": [
    {
     "data": {
      "text/plain": [
       "0"
      ]
     },
     "execution_count": 24,
     "metadata": {},
     "output_type": "execute_result"
    }
   ],
   "source": [
    "\"apple pie and ice cream in Piece dish\".count(\"i*e\")"
   ]
  },
  {
   "cell_type": "code",
   "execution_count": 25,
   "metadata": {},
   "outputs": [
    {
     "data": {
      "text/plain": [
       "'*learn to code in PYTHON*'"
      ]
     },
     "execution_count": 25,
     "metadata": {},
     "output_type": "execute_result"
    }
   ],
   "source": [
    "message.replace(\"  \", \"*\")"
   ]
  },
  {
   "cell_type": "code",
   "execution_count": 26,
   "metadata": {},
   "outputs": [
    {
     "name": "stdout",
     "output_type": "stream",
     "text": [
      ">>>  learn to code in PYTHON  <<<\n"
     ]
    }
   ],
   "source": [
    "print(\">>>\"+message+\"<<<\")"
   ]
  },
  {
   "cell_type": "code",
   "execution_count": 27,
   "metadata": {},
   "outputs": [
    {
     "data": {
      "text/plain": [
       "'r'"
      ]
     },
     "execution_count": 27,
     "metadata": {},
     "output_type": "execute_result"
    }
   ],
   "source": [
    "message[5]"
   ]
  },
  {
   "cell_type": "code",
   "execution_count": 28,
   "metadata": {},
   "outputs": [
    {
     "data": {
      "text/plain": [
       "'H'"
      ]
     },
     "execution_count": 28,
     "metadata": {},
     "output_type": "execute_result"
    }
   ],
   "source": [
    "message[-5]"
   ]
  },
  {
   "cell_type": "code",
   "execution_count": 30,
   "metadata": {},
   "outputs": [
    {
     "data": {
      "text/plain": [
       "'r'"
      ]
     },
     "execution_count": 30,
     "metadata": {},
     "output_type": "execute_result"
    }
   ],
   "source": [
    "message[5]"
   ]
  },
  {
   "cell_type": "markdown",
   "metadata": {},
   "source": [
    "### Exercise 2\n",
    "Write a program to right-justify 4 lines of text where number of characters per line is 50.\n",
    "\n",
    "\n",
    "    line 1 = \"  beautiful is better than ugly. \"\n",
    "    line 2 = \"   explicit is better than implicit.\"\n",
    "    line 3 = \"simple is better than complex.       \"\n",
    "    line 4 = \"complex is better than complicated.\"\n",
    "\n",
    "Result should be:\n",
    "\n",
    "                    beautiful is better than ugly.\n",
    "                 explicit is better than implicit.\n",
    "                    simple is better than complex.\n",
    "               complex is better than complicated."
   ]
  },
  {
   "cell_type": "code",
   "execution_count": 37,
   "metadata": {},
   "outputs": [
    {
     "name": "stdout",
     "output_type": "stream",
     "text": [
      "                   beautiful is better than ugly. \n"
     ]
    }
   ],
   "source": [
    "line_1 = \"  beautiful is better than ugly. \"\n",
    "width = 50\n",
    "print(line_1.rjust(50))"
   ]
  },
  {
   "cell_type": "code",
   "execution_count": 44,
   "metadata": {},
   "outputs": [
    {
     "name": "stdout",
     "output_type": "stream",
     "text": [
      "                 explicit is better than implicit.\n"
     ]
    }
   ],
   "source": [
    "line_2 = \"   explicit is better than implicit.\"\n",
    "width = 50\n",
    "print(line_2.rjust(50))\n"
   ]
  },
  {
   "cell_type": "code",
   "execution_count": 45,
   "metadata": {},
   "outputs": [
    {
     "name": "stdout",
     "output_type": "stream",
     "text": [
      "                    simple is better than complex.\n"
     ]
    }
   ],
   "source": [
    "line_3 = \"simple is better than complex.\"\n",
    "width = 50\n",
    "print(line_3.rjust(50))"
   ]
  },
  {
   "cell_type": "code",
   "execution_count": 46,
   "metadata": {},
   "outputs": [
    {
     "name": "stdout",
     "output_type": "stream",
     "text": [
      "               complex is better than complicated.\n"
     ]
    }
   ],
   "source": [
    "line_4 = \"complex is better than complicated.\"\n",
    "width = 50\n",
    "print(line_4.rjust(50))"
   ]
  },
  {
   "cell_type": "markdown",
   "metadata": {},
   "source": [
    "### Customized Functions"
   ]
  },
  {
   "cell_type": "code",
   "execution_count": 47,
   "metadata": {},
   "outputs": [
    {
     "name": "stdout",
     "output_type": "stream",
     "text": [
      "4\n",
      "????\n",
      "3\n",
      "???\n",
      "2\n",
      "??\n"
     ]
    }
   ],
   "source": [
    "def my_function() :\n",
    "    x = rand.randint(2, 5)\n",
    "    print(x)\n",
    "    print(\"?\"* x)\n",
    "    \n",
    "my_function()\n",
    "my_function()\n",
    "my_function()"
   ]
  },
  {
   "cell_type": "code",
   "execution_count": 48,
   "metadata": {},
   "outputs": [
    {
     "name": "stdout",
     "output_type": "stream",
     "text": [
      "&&&&&\n",
      "None\n",
      "&&&&&&&&&\n",
      "&&&&&&&&&&&\n"
     ]
    }
   ],
   "source": [
    "# customized function with arguments\n",
    "\n",
    "def my_function2(start_no, end_no) :\n",
    "    x = rand.randint(start_no, end_no)\n",
    "    #print(x)\n",
    "    print(\"&\"* x)\n",
    "    return \n",
    "    \n",
    "print(my_function2(1, 5))\n",
    "my_function2(1, 10)\n",
    "my_function2(10, 14)"
   ]
  },
  {
   "cell_type": "code",
   "execution_count": 49,
   "metadata": {},
   "outputs": [
    {
     "name": "stdout",
     "output_type": "stream",
     "text": [
      "&&&&&&&&&&\n",
      "&&&&&&&&&&&&&\n",
      "&&&&&&&&&&&&&&\n"
     ]
    }
   ],
   "source": [
    "my_function2(10, 14)\n",
    "my_function2(10, 14)\n",
    "my_function2(10, 14)"
   ]
  },
  {
   "cell_type": "code",
   "execution_count": 50,
   "metadata": {},
   "outputs": [],
   "source": [
    "# returning something with a function\n",
    "\n",
    "def add(a, b):\n",
    "    print(f\"ADDING {a} + {b}\")\n",
    "    # without the f, it looks like ADDING {a} + {b}\n",
    "    # with the f, it looks like ADDING 30 + 5\n",
    "    return a + b\n",
    "\n",
    "def subtract(a, b):\n",
    "    #print(f\"SUBTRACTING {a} - {b}\")\n",
    "    c = a - b\n",
    "    #print(\"return with \", c)\n",
    "    return c\n",
    "\n",
    "def multiply(a, b):\n",
    "    print(f\"MULTIPLYING {a} * {b}\")\n",
    "    return a * b\n",
    "\n",
    "def divide(a, b):\n",
    "    print(f\"DIVIDING {a} / {b}\")\n",
    "    return a / b\n"
   ]
  },
  {
   "cell_type": "code",
   "execution_count": 53,
   "metadata": {},
   "outputs": [
    {
     "name": "stdout",
     "output_type": "stream",
     "text": [
      "Let's do some math with just functions!\n",
      "Enter an integer: 10\n",
      "Enter a float: 10.2\n",
      "ADDING 10 + 10.2\n",
      "MULTIPLYING 10 * 10.2\n",
      "DIVIDING 10 / 10.2\n",
      "Before: numb1 = 10\tnumb2 = 10.2\n",
      "\n",
      "\n",
      "\n",
      "\n",
      "addition: 20.2\n",
      "subtraction: -0.1999999999999993\n",
      "multiplication: 102.0\n",
      "division: 0.9803921568627452\n"
     ]
    }
   ],
   "source": [
    "print(\"Let's do some math with just functions!\")\n",
    "\n",
    "numb1 = int(input(\"Enter an integer: \"))\n",
    "numb2 = float(input(\"Enter a float: \"))\n",
    "\n",
    "addition = add(numb1, numb2) \n",
    "subtraction = subtract(numb1, numb2)  \n",
    "multiplication = multiply(numb1, numb2) \n",
    "division = divide(numb1, numb2) \n",
    "\n",
    "print(f\"Before: numb1 = {numb1}\\tnumb2 = {numb2}\\n\\n\")\n",
    "print(f\"\"\"\\n\\naddition: {addition}\n",
    "subtraction: {subtraction}\n",
    "multiplication: {multiplication}\n",
    "division: {division}\"\"\")"
   ]
  },
  {
   "cell_type": "code",
   "execution_count": 54,
   "metadata": {},
   "outputs": [
    {
     "name": "stdout",
     "output_type": "stream",
     "text": [
      "After: numb1 = 10\tnumb2 = 10.2\n",
      "\n",
      "\n"
     ]
    }
   ],
   "source": [
    "print(f\"After: numb1 = {numb1}\\tnumb2 = {numb2}\\n\\n\")"
   ]
  },
  {
   "cell_type": "code",
   "execution_count": 55,
   "metadata": {},
   "outputs": [],
   "source": [
    "def add(a, b, c):\n",
    "    return a + b + c\n",
    "\n",
    "def multiply(a, b, c):\n",
    "    return a * b * c"
   ]
  },
  {
   "cell_type": "code",
   "execution_count": null,
   "metadata": {},
   "outputs": [],
   "source": [
    "print(add(1, 2))"
   ]
  },
  {
   "cell_type": "code",
   "execution_count": 56,
   "metadata": {},
   "outputs": [],
   "source": [
    "def add(a, b, c=0):\n",
    "    return a + b + c\n",
    "\n",
    "def multiply(a, b, c=1):\n",
    "    return a * b * c"
   ]
  },
  {
   "cell_type": "code",
   "execution_count": 57,
   "metadata": {},
   "outputs": [
    {
     "name": "stdout",
     "output_type": "stream",
     "text": [
      "\n",
      "10 + 20 = 30\n",
      "10 + 20 + 30 = 60\n",
      "10 * 2 = 20\n",
      "10 * 2 * 3 = 60\n",
      "\n"
     ]
    }
   ],
   "source": [
    "print(f\"\"\"\n",
    "10 + 20 = {add(10, 20)}\n",
    "10 + 20 + 30 = {add(10, 20, 30)}\n",
    "10 * 2 = {multiply(10, 2)}\n",
    "10 * 2 * 3 = {multiply(10, 2, 3)}\n",
    "\"\"\")"
   ]
  },
  {
   "cell_type": "code",
   "execution_count": 59,
   "metadata": {},
   "outputs": [],
   "source": [
    "def divide(a=1, b=1):\n",
    "    return a / b"
   ]
  },
  {
   "cell_type": "code",
   "execution_count": 60,
   "metadata": {},
   "outputs": [
    {
     "name": "stdout",
     "output_type": "stream",
     "text": [
      "3.0\n"
     ]
    }
   ],
   "source": [
    "print(divide(9, 3))"
   ]
  },
  {
   "cell_type": "code",
   "execution_count": 61,
   "metadata": {},
   "outputs": [
    {
     "name": "stdout",
     "output_type": "stream",
     "text": [
      "9.0\n"
     ]
    }
   ],
   "source": [
    "print(divide(9))"
   ]
  },
  {
   "cell_type": "code",
   "execution_count": 62,
   "metadata": {},
   "outputs": [
    {
     "name": "stdout",
     "output_type": "stream",
     "text": [
      "0.1111111111111111\n"
     ]
    }
   ],
   "source": [
    "print(divide(b=9))"
   ]
  },
  {
   "cell_type": "code",
   "execution_count": 63,
   "metadata": {},
   "outputs": [
    {
     "name": "stdout",
     "output_type": "stream",
     "text": [
      "Miss Piggy likes Kermit\n"
     ]
    }
   ],
   "source": [
    "def matching(person1, person2) :\n",
    "    print(person1 + \" likes \" + person2)\n",
    "\n",
    "name1 = \"Miss Piggy\"\n",
    "name2 = \"Kermit\"\n",
    "matching(name1, name2)\n",
    "    "
   ]
  },
  {
   "cell_type": "code",
   "execution_count": 64,
   "metadata": {},
   "outputs": [
    {
     "name": "stdout",
     "output_type": "stream",
     "text": [
      "Kermit likes Miss Piggy\n"
     ]
    }
   ],
   "source": [
    "matching(name2, name1)"
   ]
  },
  {
   "cell_type": "code",
   "execution_count": 65,
   "metadata": {},
   "outputs": [
    {
     "name": "stdout",
     "output_type": "stream",
     "text": [
      "Miss Piggy likes Kermit\n",
      "Miss Piggy likes Kermit\n"
     ]
    }
   ],
   "source": [
    "matching(person1= name1, person2=name2)\n",
    "matching(person2=name2, person1= name1)"
   ]
  },
  {
   "cell_type": "code",
   "execution_count": 66,
   "metadata": {},
   "outputs": [
    {
     "name": "stdout",
     "output_type": "stream",
     "text": [
      "retval = 10\n",
      "x = 5\n"
     ]
    }
   ],
   "source": [
    "def double_func(x) :\n",
    "    x *= 2\n",
    "    return x\n",
    "\n",
    "\n",
    "x = 5\n",
    "retval = double_func(x)\n",
    "print(f\"retval = {retval}\")\n",
    "print(f\"x = {x}\")\n"
   ]
  },
  {
   "cell_type": "code",
   "execution_count": 67,
   "metadata": {},
   "outputs": [
    {
     "name": "stdout",
     "output_type": "stream",
     "text": [
      "retval = what?what?\n",
      "x = what?\n"
     ]
    }
   ],
   "source": [
    "x = \"what?\"\n",
    "retval = double_func(x)\n",
    "print(f\"retval = {retval}\")\n",
    "print(f\"x = {x}\")\n"
   ]
  },
  {
   "cell_type": "markdown",
   "metadata": {},
   "source": [
    "## Exercise 3\n",
    "Write a function called compute() to calculate an area and a perimeter of a rectangle.\n",
    "compute() function will be used in a program as below cell. Fix bugs and edit cells if needed.\n",
    "Run all necessary cells in order to show your function works.\n",
    "\n",
    "The output should be something like this:\n",
    "\n",
    "    Please enter length: 25\n",
    "    Please enter width: 10\n",
    "\n",
    "    Area is 250\n",
    "    Perimeter is 70"
   ]
  },
  {
   "cell_type": "code",
   "execution_count": null,
   "metadata": {},
   "outputs": [],
   "source": [
    "# write code for function called compute() here\n"
   ]
  },
  {
   "cell_type": "code",
   "execution_count": null,
   "metadata": {},
   "outputs": [],
   "source": [
    "# run this cell and fix any errors\n",
    "\n",
    "print(\"The Area and Perimeter Program\")  \n",
    "\n",
    "length = input(\"Please enter length: \")\n",
    "width = input(\"Please enter width: \")\n",
    "\n",
    "compute(width, length)\n",
    "compute(lenght, width)"
   ]
  }
 ],
 "metadata": {
  "kernelspec": {
   "display_name": "Python 3",
   "language": "python",
   "name": "python3"
  },
  "language_info": {
   "codemirror_mode": {
    "name": "ipython",
    "version": 3
   },
   "file_extension": ".py",
   "mimetype": "text/x-python",
   "name": "python",
   "nbconvert_exporter": "python",
   "pygments_lexer": "ipython3",
   "version": "3.8.5"
  }
 },
 "nbformat": 4,
 "nbformat_minor": 4
}
